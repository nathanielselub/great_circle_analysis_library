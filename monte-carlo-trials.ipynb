{
 "cells": [
  {
   "cell_type": "code",
   "execution_count": null,
   "metadata": {},
   "outputs": [],
   "source": [
    "# Controls\n",
    "\n",
    "# Monte Carlo Controls\n",
    "GENERATE_MONTE_CARLO = False\n",
    "SAVE_MONTE_CARLO = False\n",
    "\n",
    "# Monte Carlo Parameters\n",
    "N_TRIALS = 100\n",
    "\n",
    "# Correlation Function Figure Parameters\n",
    "CORR_FUNC_RES = 2000\n",
    "CORR_FUNC_L_MAX = 30\n",
    "\n",
    "# General Controls\n",
    "NEW_L_MAX = 3\n",
    "FOLDER_PATH = 'data/monte-carlo-trials/'\n",
    "FIGURE_FOLDER_PATH = 'data/figures/'\n",
    "MAP_FOLDER_PATH = ''"
   ]
  },
  {
   "cell_type": "code",
   "execution_count": 2,
   "metadata": {
    "scrolled": true
   },
   "outputs": [],
   "source": [
    "import numpy as np\n",
    "import healpy as hp\n",
    "import seaborn as sns\n",
    "import warnings\n",
    "import matplotlib\n",
    "from matplotlib import pyplot as plt\n",
    "from greatcirclelibrary import *\n",
    "warnings.filterwarnings('ignore')\n",
    "matplotlib.rcParams['figure.figsize'] = [13, 9]\n",
    "matplotlib.rcParams['figure.dpi'] = 300\n",
    "matplotlib.rcParams.update({'font.size': 20})"
   ]
  },
  {
   "cell_type": "code",
   "execution_count": 3,
   "metadata": {},
   "outputs": [],
   "source": [
    "map_paths = ['COM_CompMap_CMB-nilc_2048_R1.20.fits',    # 0 - NILC\n",
    "             'COM_CompMap_CMB-smica_2048_R1.20.fits',   # 1 - SMICA\n",
    "             'COM_CompMap_CMB-sevem_2048_R1.12.fits',   # 2 - SEVEM\n",
    "             'COM_CompMap_CMB-commrul_2048_R1.00.fits'] # 3 - COMMRUL\n",
    "\n",
    "map_paths = MAP_FOLDER_PATH + np.array(map_paths, dtype=np.object)\n",
    "map_names = ['NILC', 'SMICA', 'SEVEM', 'COMMANDER']"
   ]
  },
  {
   "cell_type": "code",
   "execution_count": 4,
   "metadata": {},
   "outputs": [],
   "source": [
    "alms_real_no_dipole_or_monopole = preprocess_maps(map_paths, NEW_L_MAX)"
   ]
  },
  {
   "cell_type": "code",
   "execution_count": 5,
   "metadata": {},
   "outputs": [],
   "source": [
    "# calculate 100 preferred dipoles for each map, using 20,000 different great circles each time\n",
    "# save their alms and variance of variances"
   ]
  },
  {
   "cell_type": "code",
   "execution_count": null,
   "metadata": {},
   "outputs": [],
   "source": [
    "if GENERATE_MONTE_CARLO:\n",
    "    monte_carlo_alms = np.zeros((N_TRIALS, alms_real_no_dipole_or_monopole.shape[0], alms_real_no_dipole_or_monopole.shape[1]), dtype='complex')\n",
    "    monte_carlo_var_of_vars = np.zeros((N_TRIALS, alms_real_no_dipole_or_monopole.shape[0]))\n",
    "\n",
    "    for i in range(N_TRIALS):\n",
    "        gc_pix_temp = generate_gcs()\n",
    "        monte_carlo_var_of_vars[i] = np.var(multi_gc_vars(gc_pix_temp, alms_real_no_dipole_or_monopole), axis=1, ddof=1)\n",
    "    \n",
    "    for i in range(N_TRIALS):\n",
    "        gc_pix_temp = generate_gcs()\n",
    "        monte_carlo_alms[i] = get_pref_versions(alms_real_no_dipole_or_monopole, gc_pix_temp)\n",
    "    \n",
    "    if SAVE_MONTE_CARLO:\n",
    "        np.save(FOLDER_PATH + 'monte_carlo_alms.npy', monte_carlo_alms)\n",
    "        np.save(FOLDER_PATH + 'monte_carlo_var_of_vars.npy', monte_carlo_var_of_vars)\n",
    "\n",
    "else:\n",
    "    monte_carlo_alms = np.load(FOLDER_PATH + 'monte_carlo_alms.npy')\n",
    "    monte_carlo_var_of_vars = np.load(FOLDER_PATH + 'monte_carlo_var_of_vars.npy')\n"
   ]
  },
  {
   "cell_type": "code",
   "execution_count": null,
   "metadata": {},
   "outputs": [],
   "source": [
    "# calculate mean preferred dipole amplitude and direction"
   ]
  },
  {
   "cell_type": "code",
   "execution_count": null,
   "metadata": {},
   "outputs": [],
   "source": [
    "dipole_cls = np.zeros([N_TRIALS, alms_real_no_dipole_or_monopole.shape[0]])\n",
    "\n",
    "for i in range(dipole_cls.shape[0]):\n",
    "    for j in range(dipole_cls.shape[1]):\n",
    "        dipole_cls[i][j] = hp.alm2cl(monte_carlo_alms[i][j])[1]"
   ]
  },
  {
   "cell_type": "code",
   "execution_count": null,
   "metadata": {},
   "outputs": [],
   "source": [
    "mean_dipole_cls = np.mean(dipole_cls, axis=0)"
   ]
  },
  {
   "cell_type": "code",
   "execution_count": null,
   "metadata": {},
   "outputs": [],
   "source": [
    "def unit_vector(vector):\n",
    "    \"\"\" Returns the unit vector of the vector.  \"\"\"\n",
    "    return vector / np.linalg.norm(vector)\n",
    "\n",
    "def angle_between(v1, v2):\n",
    "    \"\"\" Returns the angle in radians between vectors 'v1' and 'v2'::\n",
    "\n",
    "            >>> angle_between((1, 0, 0), (0, 1, 0))\n",
    "            1.5707963267948966\n",
    "            >>> angle_between((1, 0, 0), (1, 0, 0))\n",
    "            0.0\n",
    "            >>> angle_between((1, 0, 0), (-1, 0, 0))\n",
    "            3.141592653589793\n",
    "    \"\"\"\n",
    "    v1_u = unit_vector(v1)\n",
    "    v2_u = unit_vector(v2)\n",
    "    return np.arccos(np.clip(np.dot(v1_u, v2_u), -1.0, 1.0))"
   ]
  },
  {
   "cell_type": "code",
   "execution_count": null,
   "metadata": {},
   "outputs": [],
   "source": [
    "dipole_dirs = np.zeros([N_TRIALS, 4, 3])\n",
    "\n",
    "for i in range(dipole_dirs.shape[0]):\n",
    "    for j in range(dipole_dirs.shape[1]):\n",
    "        dipole_dirs[i][j] = unit_vector(hp.pixelfunc.fit_dipole(hp.sphtfunc.alm2map(monte_carlo_alms[i][j], NSIDE))[1])\n",
    "\n",
    "avg_dipole_dir = np.mean(dipole_dirs, axis=0)"
   ]
  },
  {
   "cell_type": "code",
   "execution_count": null,
   "metadata": {},
   "outputs": [],
   "source": [
    "ang_dist = np.zeros([N_TRIALS, 4])\n",
    "\n",
    "for i in range(ang_dist.shape[0]):\n",
    "    for j in range(ang_dist.shape[1]):\n",
    "        ang_dist[i][j] = angle_between(avg_dipole_dir[j], dipole_dirs[i][j])"
   ]
  },
  {
   "cell_type": "code",
   "execution_count": null,
   "metadata": {},
   "outputs": [],
   "source": [
    "180*np.max(ang_dist, axis=0)/np.pi"
   ]
  },
  {
   "cell_type": "code",
   "execution_count": null,
   "metadata": {},
   "outputs": [],
   "source": [
    "dipole_angles = np.zeros([alms_real_no_dipole_or_monopole.shape[0], 2])\n",
    "\n",
    "for i in prange(dipole_angles.shape[0]):\n",
    "    dipole_angle = hp.pixelfunc.vec2ang(avg_dipole_dir[i])\n",
    "    dipole_angles[i][0] = dipole_angle[0][0]\n",
    "    dipole_angles[i][1] = dipole_angle[1][0]"
   ]
  },
  {
   "cell_type": "code",
   "execution_count": null,
   "metadata": {},
   "outputs": [],
   "source": [
    "if GENERATE_MONTE_CARLO:\n",
    "    monte_carlo_pref_alms = np.zeros_like(alms_real_no_dipole_or_monopole)\n",
    "    monte_carlo_pref_var_of_vars = np.zeros((N_TRIALS, alms_real_no_dipole_or_monopole.shape[0]))\n",
    "    \n",
    "    for i in range(monte_carlo_pref_alms.shape[0]):\n",
    "        pref_dipole_temp = np.zeros_like(alms_real_no_dipole_or_monopole[i])\n",
    "        pref_dipole_temp[hp.Alm.getidx(NEW_L_MAX, 1, 0)] = np.sqrt(3*mean_dipole_cls[i])\n",
    "        hp.rotate_alm(pref_dipole_temp, 0, dipole_angles[i][0], dipole_angles[i][1])\n",
    "        monte_carlo_pref_alms[i] = alms_real_no_dipole_or_monopole[i] + pref_dipole_temp\n",
    "    \n",
    "    for i in range(N_TRIALS):\n",
    "        gc_pix_temp = generate_gcs()\n",
    "        monte_carlo_pref_var_of_vars[i] = np.var(multi_gc_vars(gc_pix_temp, monte_carlo_pref_alms), axis=1, ddof=1)\n",
    "        \n",
    "    if SAVE_MONTE_CARLO:\n",
    "        np.save(FOLDER_PATH + 'monte_carlo_alms_pref.npy', monte_carlo_pref_alms)\n",
    "        np.save(FOLDER_PATH + 'monte_carlo_var_of_vars_pref.npy', monte_carlo_pref_var_of_vars)\n",
    "        \n",
    "else:\n",
    "    monte_carlo_pref_alms = np.load(FOLDER_PATH + 'monte_carlo_alms_pref.npy')\n",
    "    monte_carlo_pref_var_of_vars = np.load(FOLDER_PATH + 'monte_carlo_var_of_vars_pref.npy')"
   ]
  },
  {
   "cell_type": "code",
   "execution_count": null,
   "metadata": {},
   "outputs": [],
   "source": [
    "# correlation function uncertainty\n",
    "# calculate the correlation function for each dipole\n",
    "# and plot the sigma point by point for each set of sims"
   ]
  },
  {
   "cell_type": "code",
   "execution_count": null,
   "metadata": {},
   "outputs": [],
   "source": [
    "my_maps_full = np.zeros((len(map_paths), hp.nside2npix(NSIDE)))\n",
    "for i in range(len(map_paths)):\n",
    "    my_maps_full[i] = hp.pixelfunc.ud_grade(hp.read_map(map_paths[i]), NSIDE)"
   ]
  },
  {
   "cell_type": "code",
   "execution_count": null,
   "metadata": {},
   "outputs": [],
   "source": [
    "def correlation_function_graphs_stacked_uncertainty(res=CORR_FUNC_RES, L_max=CORR_FUNC_L_MAX):\n",
    "    sns.set_style('whitegrid')\n",
    "    cls_0 = np.zeros((alms_real_no_dipole_or_monopole.shape[0], L_max + 1))\n",
    "    cls_1 = np.zeros((alms_real_no_dipole_or_monopole.shape[0], L_max + 1))\n",
    "    cls_2 = np.zeros((N_TRIALS, alms_real_no_dipole_or_monopole.shape[0], L_max + 1))\n",
    "    theta = np.linspace(0, np.pi, res)\n",
    "    deg = np.degrees(theta)\n",
    "    correlation_values_0 = np.zeros((4, res))\n",
    "    correlation_values_1 = np.zeros((4, res))\n",
    "    correlation_values_2 = np.zeros((N_TRIALS, 4, res))\n",
    "    \n",
    "    for i in range(cls_0.shape[0]):\n",
    "        cls_0[i] = hp.sphtfunc.anafast(my_maps_full[i], lmax=30)\n",
    "        cls_0[i][0] = 0\n",
    "        cls_0[i][1] = 0\n",
    "        \n",
    "        correlation_values_0[i] = correlation_function(cls_0[i])(theta)\n",
    "        \n",
    "    for i in range(cls_1.shape[0]):\n",
    "        cls_1[i] = hp.sphtfunc.anafast(my_maps_full[i], lmax=CORR_FUNC_L_MAX)\n",
    "        cls_1[i][0] = 0\n",
    "        cls_1[i][1] = mean_dipole_cls[i]\n",
    "        \n",
    "        correlation_values_1[i] = correlation_function(cls_1[i])(theta)\n",
    "        \n",
    "    for i in range(cls_2.shape[0]):\n",
    "        for j in range(cls_2.shape[1]):\n",
    "            cls_2[i][j] = np.copy(cls_0[j])\n",
    "            cls_2[i][j][1] = dipole_cls[i][j]\n",
    "            correlation_values_2[i][j] = correlation_function(cls_2[i][j])(theta)\n",
    "            \n",
    "    \n",
    "    \n",
    "    colors=sns.color_palette('Paired')\n",
    "    \n",
    "    fig = plt.figure()\n",
    "    ax1 = fig.add_axes([0.1, 0.5, 0.8, 0.4], xlim=(0,180),\n",
    "                   xticklabels=[], ylim=(-200, 200))\n",
    "    ax2 = fig.add_axes([0.1, 0.1, 0.8, 0.4],\n",
    "                   ylim=(-200, 200), xlim=(0,180))\n",
    "\n",
    "    for i in range(4):\n",
    "        my_sd=np.std(correlation_values_2[:, i, :], axis=0)\n",
    "        ax2.fill_between(deg, correlation_values_1[i]-10 * my_sd, correlation_values_1[i]+10 * my_sd, zorder=0.001, color='grey', alpha=0.35)\n",
    "\n",
    "    \n",
    "    for i in range(4):\n",
    "        ax1.plot(deg, correlation_values_0[i], color=colors[2*i+1], label=map_names[i], alpha=0.8)\n",
    "        ax2.plot(deg, correlation_values_1[i], color=colors[2*i+1], label=map_names[i], zorder=100, alpha=0.8)\n",
    "\n",
    "\n",
    "    ax1.axvline(90, color = 'grey', lw=1)\n",
    "    ax2.axvline(90, color = 'grey', lw=1)\n",
    "    ax1.axhline(0, color = 'grey', lw=1)\n",
    "    ax2.axhline(0, color = 'grey', lw=1)\n",
    "    ax1.axhline(-200, color = 'black', lw=2)\n",
    "    ax1.set_yticklabels([None, -100, 0, 100, 200])\n",
    "    ax2.set_yticklabels([-200, -100, 0, 100, None])\n",
    "    ax1.set_xticks([0, 15, 30, 45, 60, 75, 90, 105, 120, 135, 150, 165, 180])\n",
    "    ax2.set_xticks([0, 15, 30, 45, 60, 75, 90, 105, 120, 135, 150, 165, 180])\n",
    "    ax1.set_xlabel(r'$\\Theta^{\\circ}$')\n",
    "    ax1.set_ylabel(r'$C(\\Theta)$ $(\\mu K^2)$')\n",
    "    ax2.set_xlabel(r'$\\Theta^{\\circ}$')\n",
    "    ax2.set_ylabel(r'$C(\\Theta)$ $(\\mu K^2)$')\n",
    "    ax2.legend(loc=3, prop={'size': 15})\n",
    "\n",
    "    plt.savefig(FIGURE_FOLDER_PATH + 'corrfunc.png')\n",
    "    plt.show()\n",
    "    "
   ]
  },
  {
   "cell_type": "code",
   "execution_count": null,
   "metadata": {},
   "outputs": [],
   "source": [
    "correlation_function_graphs_stacked_uncertainty()"
   ]
  },
  {
   "cell_type": "code",
   "execution_count": null,
   "metadata": {},
   "outputs": [],
   "source": [
    "pref_alms = monte_carlo_pref_alms[3]\n",
    "pref_rotation = get_pref_rot(pref_alms)"
   ]
  },
  {
   "cell_type": "code",
   "execution_count": null,
   "metadata": {},
   "outputs": [],
   "source": [
    "rot_to_pref_coords(pref_alms)[hp.Alm.getidx(NEW_L_MAX, 3, 3)]"
   ]
  },
  {
   "cell_type": "code",
   "execution_count": null,
   "metadata": {},
   "outputs": [],
   "source": [
    "r = R.from_euler('zyz', pref_rotation)"
   ]
  },
  {
   "cell_type": "code",
   "execution_count": null,
   "metadata": {},
   "outputs": [],
   "source": [
    "r.apply(avg_dipole_dir[3])"
   ]
  },
  {
   "cell_type": "code",
   "execution_count": null,
   "metadata": {},
   "outputs": [],
   "source": [
    "proj = hp.projector.MollweideProj()\n",
    "ang = proj.xy2ang(proj.ang2xy(60, 110, lonlat=True))\n",
    "axis_of_evil_vec = -1 * hp.pixelfunc.ang2vec(*ang)"
   ]
  },
  {
   "cell_type": "code",
   "execution_count": null,
   "metadata": {},
   "outputs": [],
   "source": [
    "pref_vecs = []\n",
    "\n",
    "for i in range(4):\n",
    "    pref_vecs.append(r.apply(avg_dipole_dir[i]))\n",
    "    \n",
    "pref_vecs.append(r.apply(axis_of_evil_vec))\n",
    "\n",
    "pref_angles = []\n",
    "\n",
    "for i in range(5):\n",
    "    current_vec = hp.pixelfunc.vec2ang(pref_vecs[i])\n",
    "    pref_angles.append(np.array([current_vec[0][0], current_vec[1][0]]))"
   ]
  },
  {
   "cell_type": "code",
   "execution_count": null,
   "metadata": {},
   "outputs": [],
   "source": [
    "vecs = []\n",
    "for i in range(4):\n",
    "    vecs.append(avg_dipole_dir[i])\n",
    "    \n",
    "vecs.append(axis_of_evil_vec)\n",
    "\n",
    "angles = []\n",
    "for i in range(5):\n",
    "    current_vec = hp.pixelfunc.vec2ang(vecs[i])\n",
    "    angles.append(np.array([current_vec[0][0], current_vec[1][0]]))"
   ]
  },
  {
   "cell_type": "code",
   "execution_count": null,
   "metadata": {},
   "outputs": [],
   "source": [
    "my_colormap = 'viridis'"
   ]
  },
  {
   "cell_type": "code",
   "execution_count": null,
   "metadata": {},
   "outputs": [],
   "source": [
    "# fig, axes = plt.subplots(nrows=2,ncols=2)\n",
    "\n",
    "# my_max = max(hp.sphtfunc.alm2map(pref_alms, NSIDE))\n",
    "# my_min = min(hp.sphtfunc.alm2map(pref_alms, NSIDE))\n",
    "\n",
    "# plt.axes(axes[0][0])\n",
    "# hp.mollview(hp.sphtfunc.alm2map(get_l(pref_alms, 1), NSIDE), title='Preferred Dipole of ' + map_names[3].title(), unit='μK', min=my_min, max=my_max, cmap=my_colormap, cbar=True, hold=True)\n",
    "# hp.graticule()\n",
    "# colors=sns.color_palette('Paired')\n",
    "# for i in range(len(map_names)):\n",
    "#     hp.projscatter(angles[i], label=map_names[i], color=colors[2*i + 1], marker='x')\n",
    "\n",
    "# hp.projscatter(angles[4], color='deeppink', label='Axis of Evil', marker='*')\n",
    "# # plt.legend()\n",
    "\n",
    "# for i in range(1, 3):\n",
    "#     plt.axes(axes[i//2][i % 2])\n",
    "#     hp.mollview(hp.sphtfunc.alm2map(get_l(pref_alms, i + 1), NSIDE), title='$\\ell = '+ str(i + 1) + '$ of ' + map_names[3].title(), unit='μK', min=my_min, cbar=True, max=my_max, cmap=my_colormap, hold=True)\n",
    "#     hp.graticule()\n",
    "    \n",
    "# plt.axes(axes[1][1])\n",
    "# hp.mollview(hp.sphtfunc.alm2map(pref_alms, NSIDE), title='$\\ell \\leq 3$ of ' + map_names[3].title(), unit='μK', min=my_min, cbar=True, max=my_max, cmap=my_colormap, hold=True)\n",
    "# hp.graticule()\n",
    "\n",
    "# plt.subplots_adjust(wspace=0.01,hspace=0.01)\n",
    "# plt.savefig(FIGURE_FOLDER_PATH + 'dipole_figure_through_3_mollweide.png')"
   ]
  },
  {
   "cell_type": "code",
   "execution_count": null,
   "metadata": {},
   "outputs": [],
   "source": [
    "fig, axes = plt.subplots(nrows=2,ncols=2)\n",
    "\n",
    "my_max = max(hp.sphtfunc.alm2map(pref_alms, NSIDE))\n",
    "my_min = min(hp.sphtfunc.alm2map(pref_alms, NSIDE))\n",
    "\n",
    "plt.axes(axes[0][0])\n",
    "hp.mollview(hp.sphtfunc.alm2map(get_l(rot_to_pref_coords(pref_alms), 1), NSIDE), title='Preferred Dipole of ' + map_names[3].title(), unit='μK', min=my_min, max=my_max, cmap=my_colormap, cbar=True, hold=True)\n",
    "\n",
    "colors=sns.color_palette('Paired')\n",
    "colors_custom = [colors[1], colors[3], colors[5], colors[7], colors[9]]\n",
    "for i in range(len(map_names)):\n",
    "    hp.projscatter(pref_angles[i], label=map_names[i], color=colors_custom[i], marker='P', zorder=10, linewidth=0.75, edgecolor='black')\n",
    "\n",
    "hp.projscatter(pref_angles[4], color='white', label='Axis of Evil', marker='P', alpha=1, zorder=10, linewidth=0.5, edgecolor='black')\n",
    "plt.legend(loc=3, prop={'size': 12})\n",
    "\n",
    "for i in range(1, 3):\n",
    "    plt.axes(axes[i//2][i % 2])\n",
    "    hp.mollview(hp.sphtfunc.alm2map(get_l(rot_to_pref_coords(pref_alms), i + 1), NSIDE), title='$\\ell = '+ str(i + 1) + '$ of ' + map_names[3].title(), unit='μK', min=my_min, cbar=True, max=my_max, cmap=my_colormap, hold=True)\n",
    "    \n",
    "plt.axes(axes[1][1])\n",
    "hp.mollview(hp.sphtfunc.alm2map(rot_to_pref_coords(pref_alms), NSIDE), title='$\\ell \\leq 3$ of ' + map_names[3].title(), unit='μK', min=my_min, cbar=True, max=my_max, cmap=my_colormap, hold=True)\n",
    "hp.graticule()\n",
    "\n",
    "plt.subplots_adjust(wspace=0.01, hspace=0.01)\n",
    "plt.savefig(FIGURE_FOLDER_PATH + 'mollweide.png')"
   ]
  },
  {
   "cell_type": "code",
   "execution_count": null,
   "metadata": {},
   "outputs": [],
   "source": [
    "fig, axes = plt.subplots(nrows=2,ncols=3)\n",
    "\n",
    "# my_max = max(hp.sphtfunc.alm2map(pref_alms, NSIDE))\n",
    "# my_min = min(hp.sphtfunc.alm2map(pref_alms, NSIDE))\n",
    "my_min=-50\n",
    "my_max=50\n",
    "\n",
    "plt.subplot(2, 3, 2)\n",
    "hp.mollview(hp.sphtfunc.alm2map(get_l(rot_to_pref_coords(pref_alms), 1), NSIDE), title='Preferred Dipole', unit='μK', min=my_min, max=my_max, cmap=my_colormap, cbar=False, hold=True)\n",
    "\n",
    "plt.subplot(1, 3, 1)\n",
    "hp.orthview(hp.sphtfunc.alm2map(get_l(rot_to_pref_coords(pref_alms), 1), NSIDE), half_sky=True, rot = (0, 90, 0), title='Preferred Dipole', unit='μK', min=my_min, cbar=False, max=my_max, cmap=my_colormap, hold=True)\n",
    "\n",
    "colors=sns.color_palette('Paired')\n",
    "colors_custom = [colors[1], colors[3], colors[5], colors[7], colors[9]]\n",
    "for i in range(len(map_names)):\n",
    "    hp.projscatter(pref_angles[i], label=map_names[i], color=colors_custom[i], marker='D', linewidth=0.75, edgecolor='black')\n",
    "\n",
    "hp.projscatter(pref_angles[4], color='white', label='Axis of Evil', marker='P', linewidth=0.5, edgecolor='black')\n",
    "\n",
    "plt.legend(loc=3, prop={'size': 10})\n",
    "\n",
    "plt.subplot(2, 3, 3)\n",
    "hp.mollview(hp.sphtfunc.alm2map(get_l(rot_to_pref_coords(pref_alms), 2), NSIDE), title='$\\ell = 2$', unit='μK', min=my_min, cbar=False, max=my_max, cmap=my_colormap, hold=True)\n",
    "\n",
    "plt.subplot(2, 3, 5)\n",
    "hp.mollview(hp.sphtfunc.alm2map(get_l(rot_to_pref_coords(pref_alms), 3), NSIDE), title='$\\ell = 3$', unit='μK', min=my_min, cbar=False, max=my_max, cmap=my_colormap, hold=True)\n",
    "        \n",
    "plt.subplot(2, 3, 6)\n",
    "hp.mollview(hp.sphtfunc.alm2map(rot_to_pref_coords(pref_alms), NSIDE), title='$\\ell \\leq 3$', unit='μK', min=my_min, cbar=False, max=my_max, cmap=my_colormap, hold=True)\n",
    "plt.subplots_adjust(wspace=0.001, hspace=0.001, bottom=0.8)\n",
    "hp.graticule()\n",
    "\n",
    "ax = plt.gca()        \n",
    "\n",
    "# Get the images on an axis\n",
    "im = ax.images        \n",
    "\n",
    "# cax = plt.axes([0.95, 0.3, 0.025, 0.4])\n",
    "# cbar = plt.colorbar(im[0], cax=cax, ticks=[-50, -25, 0, 25, 50])\n",
    "# cbar.set_label(r'$\\mu K$', rotation='horizontal', verticalalignment='center')\n",
    "cax = plt.axes([0.2, 0.15, 0.6, 0.025])\n",
    "cbar = plt.colorbar(im[0], cax=cax, ticks=[-50, -25, 0, 25, 50], orientation='horizontal')\n",
    "cbar.set_label(r'$\\mu K$', rotation='horizontal', horizontalalignment='center')\n",
    "\n",
    "# fig.tight_layout()\n",
    "\n",
    "plt.savefig(FIGURE_FOLDER_PATH + 'mollweide.png')"
   ]
  }
 ],
 "metadata": {
  "kernelspec": {
   "display_name": "Python 3",
   "language": "python",
   "name": "python3"
  },
  "language_info": {
   "codemirror_mode": {
    "name": "ipython",
    "version": 3
   },
   "file_extension": ".py",
   "mimetype": "text/x-python",
   "name": "python",
   "nbconvert_exporter": "python",
   "pygments_lexer": "ipython3",
   "version": "3.9.4"
  }
 },
 "nbformat": 4,
 "nbformat_minor": 4
}
